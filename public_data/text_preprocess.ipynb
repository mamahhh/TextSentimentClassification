{
 "cells": [
  {
   "cell_type": "code",
   "execution_count": 2,
   "metadata": {},
   "outputs": [],
   "source": [
    "# data preprocessing and look up how many words are there in every sentances\n",
    "import pandas as pd\n",
    "import numpy as np\n",
    "import os\n",
    "import csv\n",
    "import matplotlib.pyplot as plt"
   ]
  },
  {
   "cell_type": "code",
   "execution_count": 2,
   "metadata": {},
   "outputs": [],
   "source": [
    "from pandas import DataFrame\n",
    "path = r'D:\\v-yanx\\masijia\\text_mood_classification\\text_mood_classification\\public_data\\labeledTrainData.tsv'\n"
   ]
  },
  {
   "cell_type": "code",
   "execution_count": 24,
   "metadata": {},
   "outputs": [],
   "source": [
    "sentiments = []\n",
    "sentances = []\n",
    "with open(path, encoding=\"utf8\") as tsvfile:\n",
    "    data = csv.reader(tsvfile, delimiter=\"\\t\")\n",
    "    for line in data:\n",
    "        sentiments.append(line[1])\n",
    "        sentances.append(line[2])"
   ]
  },
  {
   "cell_type": "code",
   "execution_count": 49,
   "metadata": {},
   "outputs": [
    {
     "data": {
      "text/plain": [
       "24501"
      ]
     },
     "execution_count": 49,
     "metadata": {},
     "output_type": "execute_result"
    }
   ],
   "source": [
    "len(sentances)"
   ]
  },
  {
   "cell_type": "code",
   "execution_count": 36,
   "metadata": {},
   "outputs": [],
   "source": [
    "t = sentances[1]\n",
    "text = ''.join([c if c.isalpha() else ' ' for c in t])# clear ,#*&!@$...., only leave alphas"
   ]
  },
  {
   "cell_type": "code",
   "execution_count": 37,
   "metadata": {},
   "outputs": [
    {
     "data": {
      "text/plain": [
       "'This has to be the funniest stand up comedy I have ever seen  Eddie Izzard is a genius  he picks in Brits  Americans and everyone in between  His style is completely natural and completely hilarious  I doubt that anyone could sit through this and not laugh their a   off  Watch  enjoy  it s funny '"
      ]
     },
     "execution_count": 37,
     "metadata": {},
     "output_type": "execute_result"
    }
   ],
   "source": [
    "text"
   ]
  },
  {
   "cell_type": "code",
   "execution_count": 40,
   "metadata": {},
   "outputs": [],
   "source": [
    "word = [w for w in text.split(' ') if w]"
   ]
  },
  {
   "cell_type": "code",
   "execution_count": 59,
   "metadata": {},
   "outputs": [],
   "source": [
    "words_dic = {}\n",
    "for i in range(1,len(sentances)):\n",
    "    text = ''.join([c if c.isalpha() else ' ' for c in sentances[i]])\n",
    "    words = [w for w in text.split(' ') if w]\n",
    "    key = '{:0>5}_{}'.format(i,sentiments[i])\n",
    "    words_dic[key] = words"
   ]
  },
  {
   "cell_type": "code",
   "execution_count": 55,
   "metadata": {},
   "outputs": [],
   "source": [
    "np.save('words_dic.npy',words_dic)# save the sentances and their ids in a dictionary"
   ]
  },
  {
   "cell_type": "code",
   "execution_count": 20,
   "metadata": {},
   "outputs": [],
   "source": [
    "words_dic_train = np.load('words_dic.npy',allow_pickle=True).item()"
   ]
  },
  {
   "cell_type": "code",
   "execution_count": 21,
   "metadata": {},
   "outputs": [],
   "source": [
    "lens = []\n",
    "for key in words_dic_train:\n",
    "    l = len(words_dic_train[key])\n",
    "    lens.append(l)\n",
    "    "
   ]
  },
  {
   "cell_type": "code",
   "execution_count": 22,
   "metadata": {},
   "outputs": [],
   "source": [
    "uni = set(lens)\n",
    "x = []\n",
    "y = []\n",
    "for i in uni:\n",
    "    x.append(i)\n",
    "x.sort()\n",
    "#y.append(lens.count(i))\n"
   ]
  },
  {
   "cell_type": "code",
   "execution_count": 23,
   "metadata": {},
   "outputs": [],
   "source": [
    "for i in x:\n",
    "    y.append(lens.count(i))"
   ]
  },
  {
   "cell_type": "code",
   "execution_count": 24,
   "metadata": {},
   "outputs": [
    {
     "data": {
      "image/png": "[encoded data removed]",
      "text/plain": [
       "<Figure size 432x288 with 1 Axes>"
      ]
     },
     "metadata": {
      "needs_background": "light"
     },
     "output_type": "display_data"
    }
   ],
   "source": [
    "plt.figure('train')\n",
    "plt.plot(x,y)\n",
    "plt.savefig(\"train_distribution.jpg\")\n",
    "\n"
   ]
  },
  {
   "cell_type": "code",
   "execution_count": 25,
   "metadata": {},
   "outputs": [
    {
     "name": "stdout",
     "output_type": "stream",
     "text": [
      "250_percent: 0.6830204081632653\n",
      "500_percent: 0.9128979591836734\n",
      "1000_percent: 0.9941632653061224\n"
     ]
    }
   ],
   "source": [
    "n_1000 = 0\n",
    "n_500 = 0\n",
    "n_250 = 0\n",
    "n = 0\n",
    "for i,case in enumerate(x):\n",
    "    if case<=250:\n",
    "        n_250 = n_250 + y[i]\n",
    "    if case<=500:\n",
    "        n_500 = n_500 + y[i]\n",
    "    if case<=1000:\n",
    "        n_1000 = n_1000 + y[i]\n",
    "    n = n + y[i]\n",
    "print('250_percent:',n_250/n)\n",
    "print('500_percent:',n_500/n)\n",
    "print('1000_percent:',n_1000/n)# from these percents, we choose 500 as our MAX_SEQUENCE_LENGTH"
   ]
  },
  {
   "cell_type": "code",
   "execution_count": 1,
   "metadata": {},
   "outputs": [],
   "source": [
    "path_test = r'D:\\v-yanx\\masijia\\text_mood_classification\\text_mood_classification\\public_data\\testData.tsv'"
   ]
  },
  {
   "cell_type": "code",
   "execution_count": 3,
   "metadata": {},
   "outputs": [],
   "source": [
    "ids = []\n",
    "sentances = []\n",
    "with open(path_test, encoding='utf8') as f:\n",
    "    data = csv.reader(f,delimiter='\\t')\n",
    "    for line in data:\n",
    "        ids.append(line[0])\n",
    "        sentances.append(line[1])"
   ]
  },
  {
   "cell_type": "code",
   "execution_count": 4,
   "metadata": {},
   "outputs": [
    {
     "data": {
      "text/plain": [
       "'So im not a big fan of Boll\\'s work but then again not many are. I enjoyed his movie Postal (maybe im the only one). Boll apparently bought the rights to use Far Cry long ago even before the game itself was even finsished. <br /><br />People who have enjoyed killing mercs and infiltrating secret research labs located on a tropical island should be warned, that this is not Far Cry... This is something Mr Boll have schemed together along with his legion of schmucks.. Feeling loneley on the set Mr Boll invites three of his countrymen to play with. These players go by the names of Til Schweiger, Udo Kier and Ralf Moeller.<br /><br />Three names that actually have made them selfs pretty big in the movie biz. So the tale goes like this, Jack Carver played by Til Schweiger (yes Carver is German all hail the bratwurst eating dudes!!) However I find that Tils acting in this movie is pretty badass.. People have complained about how he\\'s not really staying true to the whole Carver agenda but we only saw carver in a first person perspective so we don\\'t really know what he looked like when he was kicking a**.. <br /><br />However, the storyline in this film is beyond demented. We see the evil mad scientist Dr. Krieger played by Udo Kier, making Genetically-Mutated-soldiers or GMS as they are called. Performing his top-secret research on an island that reminds me of \\\\SPOILER\\\\\" Vancouver for some reason. Thats right no palm trees here. Instead we got some nice rich lumberjack-woods. We haven\\'t even gone FAR before I started to CRY (mehehe) I cannot go on any more.. If you wanna stay true to Bolls shenanigans then go and see this movie you will not be disappointed it delivers the true Boll experience, meaning most of it will suck.<br /><br />There are some things worth mentioning that would imply that Boll did a good work on some areas of the film such as some nice boat and fighting scenes. Until the whole cromed/albino GMS squad enters the scene and everything just makes me laugh.. The movie Far Cry reeks of scheisse (that\\'s poop for you simpletons) from a fa,r if you wanna take a wiff go ahead.. BTW Carver gets a very annoying sidekick who makes you wanna shoot him the first three minutes he\\'s on screen.\"'"
      ]
     },
     "execution_count": 4,
     "metadata": {},
     "output_type": "execute_result"
    }
   ],
   "source": [
    "sentances[1]"
   ]
  },
  {
   "cell_type": "code",
   "execution_count": 5,
   "metadata": {},
   "outputs": [],
   "source": [
    "words_dic1 = {}\n",
    "for i in range(1,len(sentances)):\n",
    "    text = ''.join([c if c.isalpha() else ' ' for c in sentances[i]])\n",
    "    words = [w for w in text.split(' ') if w]\n",
    "    key = '{:0>5}_{}'.format(i,ids[i])\n",
    "    words_dic1[key] = words"
   ]
  },
  {
   "cell_type": "code",
   "execution_count": 6,
   "metadata": {},
   "outputs": [],
   "source": [
    "np.save('test_words_dic.npy',words_dic1)"
   ]
  },
  {
   "cell_type": "code",
   "execution_count": 7,
   "metadata": {},
   "outputs": [],
   "source": [
    "words_dic_test = np.load('test_words_dic.npy',allow_pickle=True).item()"
   ]
  },
  {
   "cell_type": "code",
   "execution_count": 13,
   "metadata": {},
   "outputs": [],
   "source": [
    "test_lens = []\n",
    "for key in words_dic_test:\n",
    "    l = len(words_dic_test[key])\n",
    "    test_lens.append(l)\n",
    "    "
   ]
  },
  {
   "cell_type": "code",
   "execution_count": 18,
   "metadata": {},
   "outputs": [
    {
     "data": {
      "text/plain": [
       "48999"
      ]
     },
     "execution_count": 18,
     "metadata": {},
     "output_type": "execute_result"
    }
   ],
   "source": [
    "len(test_lens)"
   ]
  },
  {
   "cell_type": "code",
   "execution_count": 15,
   "metadata": {},
   "outputs": [
    {
     "data": {
      "image/png": "[encoded data removed]",
      "text/plain": [
       "<Figure size 432x288 with 1 Axes>"
      ]
     },
     "metadata": {
      "needs_background": "light"
     },
     "output_type": "display_data"
    }
   ],
   "source": [
    "t_uni = set(test_lens)\n",
    "t_x = []\n",
    "t_y = []\n",
    "for i in t_uni:\n",
    "    t_x.append(i)\n",
    "t_x.sort()\n",
    "for i in t_x:\n",
    "    t_y.append(test_lens.count(i))\n",
    "plt.figure('test')\n",
    "plt.plot(x,y)\n",
    "plt.savefig(\"test_distribution.jpg\")"
   ]
  },
  {
   "cell_type": "code",
   "execution_count": 17,
   "metadata": {},
   "outputs": [
    {
     "name": "stdout",
     "output_type": "stream",
     "text": [
      "250_percent: 0.6789730402661279\n",
      "500_percent: 0.9127737300761241\n",
      "1000_percent: 0.9934692544745811\n",
      "t_n: 48999\n"
     ]
    }
   ],
   "source": [
    "t_n_1000 = 0\n",
    "t_n_500 = 0\n",
    "t_n_250 = 0\n",
    "t_n = 0\n",
    "for i,case in enumerate(t_x):\n",
    "    if case<=250:\n",
    "        t_n_250 = t_n_250 + t_y[i]\n",
    "    if case<=500:\n",
    "        t_n_500 = t_n_500 + t_y[i]\n",
    "    if case<=1000:\n",
    "        t_n_1000 = t_n_1000 + t_y[i]\n",
    "    t_n = t_n + t_y[i]\n",
    "print('250_percent:',t_n_250/t_n)\n",
    "print('500_percent:',t_n_500/t_n)\n",
    "print('1000_percent:',t_n_1000/t_n)\n",
    "print('t_n:',t_n)"
   ]
  },
  {
   "cell_type": "code",
   "execution_count": null,
   "metadata": {},
   "outputs": [],
   "source": []
  }
 ],
 "metadata": {
  "kernelspec": {
   "display_name": "Python 3",
   "language": "python",
   "name": "python3"
  },
  "language_info": {
   "codemirror_mode": {
    "name": "ipython",
    "version": 3
   },
   "file_extension": ".py",
   "mimetype": "text/x-python",
   "name": "python",
   "nbconvert_exporter": "python",
   "pygments_lexer": "ipython3",
   "version": "3.6.7"
  }
 },
 "nbformat": 4,
 "nbformat_minor": 2
}
