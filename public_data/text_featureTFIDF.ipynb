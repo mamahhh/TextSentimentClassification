{
 "cells": [
  {
   "cell_type": "code",
   "execution_count": null,
   "metadata": {},
   "outputs": [],
   "source": [
    "import os\n",
    "import numpy as np\n",
    "from sklearn.feature_extraction.text import TfidfVectorizer"
   ]
  },
  {
   "cell_type": "code",
   "execution_count": null,
   "metadata": {},
   "outputs": [],
   "source": [
    "words_train = np.load('words_dic.npy',allow_pickle=True).item()\n",
    "words_test = np.load('test_words_dic.npy',allow_pickle=True).item()"
   ]
  },
  {
   "cell_type": "code",
   "execution_count": null,
   "metadata": {},
   "outputs": [],
   "source": [
    "x_train = []\n",
    "for key in words_train:\n",
    "    sentance = ' '.join(words_train[key])\n",
    "    x_train.append(sentance)"
   ]
  },
  {
   "cell_type": "code",
   "execution_count": null,
   "metadata": {},
   "outputs": [],
   "source": [
    "x_test = []\n",
    "for key in words_test:\n",
    "    sentance = ' '.join(words_test[key])\n",
    "    x_test.append(sentance)"
   ]
  },
  {
   "cell_type": "code",
   "execution_count": null,
   "metadata": {},
   "outputs": [],
   "source": [
    "len(x_test)"
   ]
  },
  {
   "cell_type": "code",
   "execution_count": null,
   "metadata": {},
   "outputs": [],
   "source": [
    "# using tf-idf to represent words\n",
    "# for training data\n",
    "vectorizer = TfidfVectorizer(max_df=0.8, min_df=5)\n",
    "X_train = vectorizer.fit_transform(x_train)\n",
    "print(X_train.shape)\n",
    "X_train = X_train.toarray()"
   ]
  },
  {
   "cell_type": "code",
   "execution_count": null,
   "metadata": {},
   "outputs": [],
   "source": [
    "# for testing data, using words from training\n",
    "tv2 = TfidfVectorizer(vocabulary = vectorizer.vocabulary_);\n",
    "X_test = tv2.fit_transform(x_test)\n",
    "X_test = X_test.toarray()"
   ]
  },
  {
   "cell_type": "code",
   "execution_count": null,
   "metadata": {},
   "outputs": [],
   "source": [
    "y_train = []\n",
    "for key in words_train:\n",
    "    y_train.append(int(key[-1]))"
   ]
  },
  {
   "cell_type": "code",
   "execution_count": null,
   "metadata": {},
   "outputs": [],
   "source": [
    "y_train = np.array(y_train)"
   ]
  },
  {
   "cell_type": "code",
   "execution_count": null,
   "metadata": {},
   "outputs": [],
   "source": []
  },
  {
   "cell_type": "code",
   "execution_count": null,
   "metadata": {},
   "outputs": [],
   "source": [
    "# simple SVC\n",
    "from sklearn.svm import SVC\n",
    "clf = SVC(gamma='auto')\n",
    "clf.fit(X_train[:20000,:], y_train[:20000]) "
   ]
  },
  {
   "cell_type": "code",
   "execution_count": null,
   "metadata": {},
   "outputs": [],
   "source": [
    "y_pred = clf.predict(X_train[20000:,:])"
   ]
  },
  {
   "cell_type": "code",
   "execution_count": null,
   "metadata": {},
   "outputs": [],
   "source": [
    "n = 0\n",
    "for i in range(4500):\n",
    "    if y_pred[i]==y_train[20000+i]:\n",
    "        n = n+1\n",
    "print(n/4500)"
   ]
  },
  {
   "cell_type": "code",
   "execution_count": null,
   "metadata": {},
   "outputs": [],
   "source": [
    "# linear SVM\n",
    "from sklearn.svm import SVC\n",
    "clf = SVC(kernel='linear')\n",
    "clf.fit(X_train[:20000,:], y_train[:20000]) \n",
    "y_pred = clf.predict(X_train[20000:,:])"
   ]
  },
  {
   "cell_type": "code",
   "execution_count": null,
   "metadata": {},
   "outputs": [],
   "source": [
    "n = 0\n",
    "for i in range(4500):\n",
    "    if y_pred[i]==y_train[20000+i]:\n",
    "        n = n+1\n",
    "print(n/4500)"
   ]
  },
  {
   "cell_type": "code",
   "execution_count": null,
   "metadata": {},
   "outputs": [],
   "source": [
    "# logistic regression\n",
    "from sklearn.linear_model import LogisticRegression\n",
    "clf = LogisticRegression(random_state=0, solver='lbfgs',\n",
    "                               multi_class='ovr').fit(X_train[:20000,:], y_train[:20000])\n",
    "y_pred = clf.predict(X_train[20000:,:])\n",
    "y_pred_prob = clf.predict_proba(X_train[20000:,:]) \n",
    "acc = clf.score(X_train[20000:,:], y_train[20000:])\n",
    "print(acc)"
   ]
  },
  {
   "cell_type": "code",
   "execution_count": null,
   "metadata": {},
   "outputs": [],
   "source": [
    "from sklearn.linear_model import LogisticRegression\n",
    "clf = LogisticRegression(random_state=0, solver='liblinear',\n",
    "                               multi_class='ovr').fit(X_train[:20000,:], y_train[:20000])\n",
    "y_pred = clf.predict(X_train[20000:,:])\n",
    "y_pred_prob = clf.predict_proba(X_train[20000:,:]) \n",
    "acc = clf.score(X_train[20000:,:], y_train[20000:])\n",
    "print(acc)"
   ]
  },
  {
   "cell_type": "code",
   "execution_count": null,
   "metadata": {},
   "outputs": [],
   "source": [
    "acc_train = clf.score(X_train[:20000,:], y_train[:20000])"
   ]
  },
  {
   "cell_type": "code",
   "execution_count": null,
   "metadata": {},
   "outputs": [],
   "source": [
    "acc_train"
   ]
  },
  {
   "cell_type": "code",
   "execution_count": null,
   "metadata": {},
   "outputs": [],
   "source": [
    "from sklearn.linear_model import LogisticRegression\n",
    "clf = LogisticRegression(random_state=0, penalty='l1', solver='liblinear',\n",
    "                               multi_class='ovr').fit(X_train[:20000,:], y_train[:20000])\n",
    "y_pred = clf.predict(X_train[20000:,:])\n",
    "y_pred_prob = clf.predict_proba(X_train[20000:,:]) \n",
    "acc = clf.score(X_train[20000:,:], y_train[20000:])\n",
    "print('test_acc:',acc)\n",
    "acc_train = clf.score(X_train[:20000,:], y_train[:20000])\n",
    "print('train_acc:',acc_train)"
   ]
  },
  {
   "cell_type": "code",
   "execution_count": null,
   "metadata": {},
   "outputs": [],
   "source": [
    "from sklearn.linear_model import LogisticRegression\n",
    "clf = LogisticRegression(random_state=0, solver='sag',\n",
    "                               multi_class='ovr').fit(X_train[:20000,:], y_train[:20000])\n",
    "y_pred = clf.predict(X_train[20000:,:])\n",
    "y_pred_prob = clf.predict_proba(X_train[20000:,:]) \n",
    "acc = clf.score(X_train[20000:,:], y_train[20000:])\n",
    "print('test_acc:',acc)\n",
    "acc_train = clf.score(X_train[:20000,:], y_train[:20000])\n",
    "print('train_acc:',acc_train)"
   ]
  },
  {
   "cell_type": "code",
   "execution_count": null,
   "metadata": {},
   "outputs": [],
   "source": [
    "from sklearn.linear_model import LogisticRegression\n",
    "clf = LogisticRegression(random_state=0, solver='sag',\n",
    "                               multi_class='ovr',C=0.8).fit(X_train[:20000,:], y_train[:20000])\n",
    "y_pred = clf.predict(X_train[20000:,:])\n",
    "y_pred_prob = clf.predict_proba(X_train[20000:,:]) \n",
    "acc = clf.score(X_train[20000:,:], y_train[20000:])\n",
    "print('test_acc:',acc)\n",
    "acc_train = clf.score(X_train[:20000,:], y_train[:20000])\n",
    "print('train_acc:',acc_train)"
   ]
  },
  {
   "cell_type": "code",
   "execution_count": null,
   "metadata": {},
   "outputs": [],
   "source": [
    "# select the best C value\n",
    "from sklearn.model_selection import cross_val_score\n",
    "from sklearn.linear_model import LogisticRegression\n",
    "scores = []\n",
    "for i in range(1,101):\n",
    "    i = i*0.08\n",
    "    clf = LogisticRegression(random_state=0, solver='sag',multi_class='ovr',C=i)\n",
    "    score = cross_val_score(clf, X_train, y_train, cv=5)\n",
    "    scores.append(score.mean())"
   ]
  },
  {
   "cell_type": "code",
   "execution_count": null,
   "metadata": {},
   "outputs": [],
   "source": [
    "i = scores.index(max(scores)) + 1"
   ]
  },
  {
   "cell_type": "code",
   "execution_count": null,
   "metadata": {},
   "outputs": [],
   "source": [
    "i"
   ]
  },
  {
   "cell_type": "code",
   "execution_count": null,
   "metadata": {},
   "outputs": [],
   "source": [
    "for i in range(1,56):\n",
    "    i = i*0.08\n",
    "    C = i"
   ]
  },
  {
   "cell_type": "code",
   "execution_count": null,
   "metadata": {},
   "outputs": [],
   "source": [
    "C"
   ]
  },
  {
   "cell_type": "code",
   "execution_count": null,
   "metadata": {},
   "outputs": [],
   "source": [
    "# Multilayer Perceptron(MLP)\n",
    "from tensorflow.keras.layers import Dense, Dropout\n",
    "from tensorflow.keras.models import Sequential\n",
    "\n",
    "model = Sequential()\n",
    "model.add(Dense(128, input_shape=(26692,), activation='relu'))\n",
    "model.add(Dropout(0.4))\n",
    "model.add(Dense(1, activation='sigmoid'))\n",
    "model.summary()"
   ]
  },
  {
   "cell_type": "code",
   "execution_count": null,
   "metadata": {},
   "outputs": [],
   "source": [
    "model.compile(loss='binary_crossentropy', optimizer='rmsprop', metrics=['acc'])\n",
    " \n",
    "model.fit(X_train[:20000,:], y_train[:20000], batch_size=128, epochs=10, validation_data=(X_train[20000:,:], y_train[20000:]))"
   ]
  },
  {
   "cell_type": "code",
   "execution_count": null,
   "metadata": {},
   "outputs": [],
   "source": [
    "from tensorflow.keras.initializers import glorot_normal\n",
    "import tensorflow as tf\n",
    "from tensorflow.keras.layers import Dense, Dropout, Activation\n",
    "from tensorflow.keras.models import Sequential"
   ]
  },
  {
   "cell_type": "code",
   "execution_count": null,
   "metadata": {},
   "outputs": [],
   "source": [
    "from tensorflow.keras.layers import Dense, Dropout\n",
    "from tensorflow.keras.models import Sequential\n",
    "\n",
    "model = Sequential()\n",
    "model.add(Dense(128, input_shape=(26692,), activation='relu', kernel_initializer=glorot_normal(seed=None)))\n",
    "model.add(Dropout(0.4))\n",
    "model.add(Dense(1, activation='sigmoid'))\n",
    "model.summary()\n",
    "model.compile(loss='binary_crossentropy', optimizer='rmsprop', metrics=['acc'])\n",
    " \n",
    "model.fit(X_train[:20000,:], y_train[:20000], batch_size=128, epochs=5, validation_data=(X_train[20000:,:], y_train[20000:]))"
   ]
  },
  {
   "cell_type": "code",
   "execution_count": null,
   "metadata": {},
   "outputs": [],
   "source": [
    "# make prediction and save to submission.txt\n",
    "prediction = model.predict(X_test)\n",
    "np.savetxt('submission.txt',prediction, fmt='%.9f')"
   ]
  },
  {
   "cell_type": "code",
   "execution_count": null,
   "metadata": {},
   "outputs": [],
   "source": [
    "from sklearn.metrics import roc_auc_score\n",
    "\n",
    "roc_auc_score(y_train[20000:], prediction)"
   ]
  },
  {
   "cell_type": "code",
   "execution_count": null,
   "metadata": {},
   "outputs": [],
   "source": [
    "np.savetxt('submission.txt',prediction, fmt='%.9f')"
   ]
  },
  {
   "cell_type": "code",
   "execution_count": null,
   "metadata": {},
   "outputs": [],
   "source": [
    "prediction.shape"
   ]
  },
  {
   "cell_type": "code",
   "execution_count": null,
   "metadata": {},
   "outputs": [],
   "source": []
  }
 ],
 "metadata": {
  "kernelspec": {
   "display_name": "Python 3",
   "language": "python",
   "name": "python3"
  },
  "language_info": {
   "codemirror_mode": {
    "name": "ipython",
    "version": 3
   },
   "file_extension": ".py",
   "mimetype": "text/x-python",
   "name": "python",
   "nbconvert_exporter": "python",
   "pygments_lexer": "ipython3",
   "version": "3.6.7"
  }
 },
 "nbformat": 4,
 "nbformat_minor": 2
}
